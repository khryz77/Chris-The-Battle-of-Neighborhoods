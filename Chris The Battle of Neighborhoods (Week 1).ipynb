{
 "cells": [
  {
   "cell_type": "markdown",
   "metadata": {},
   "source": [
    "# Welcome to Chris The Battle of Neighborhoods (Week 1)\n",
    "\n",
    "## For this week, I will submit the following:\n",
    "1. Introduction/Business Problem - A description of the problem and a discussion of the background.\n",
    "\n",
    "In this assignment, we want to find a good place to open a Filipino restaurant in New York. There are an estimated 50,000 Filipino immigrants that currently live in New York City. One of the things that people look for when they have been away for so long is the taste of home. Opening a Filipino restaurant will be a good way of doing that, and it will offer a novel experience to those of other cultures.\n",
    "\n",
    "2. Data - A description of the data and how it will be used to solve the problem.\n",
    "\n",
    "I will leverage the data (newyork_data.json) that was used in the previous module. To solve the problem, I will use the Foursquare location data to buid New York neighborhood data and their coordinates. Then I will explore, segment, and use KMeans to cluster the neighborhood based on the top 10 venues for each district. Finally, I will analyze the clustering result and propose the best place to open a Filipino restaurant."
   ]
  },
  {
   "cell_type": "code",
   "execution_count": null,
   "metadata": {},
   "outputs": [],
   "source": []
  }
 ],
 "metadata": {
  "kernelspec": {
   "display_name": "Python",
   "language": "python",
   "name": "conda-env-python-py"
  },
  "language_info": {
   "codemirror_mode": {
    "name": "ipython",
    "version": 3
   },
   "file_extension": ".py",
   "mimetype": "text/x-python",
   "name": "python",
   "nbconvert_exporter": "python",
   "pygments_lexer": "ipython3",
   "version": "3.6.12"
  }
 },
 "nbformat": 4,
 "nbformat_minor": 4
}
